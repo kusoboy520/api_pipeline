{
 "cells": [
  {
   "cell_type": "code",
   "execution_count": 1,
   "metadata": {},
   "outputs": [],
   "source": [
    "import pandas as pd"
   ]
  },
  {
   "cell_type": "code",
   "execution_count": 10,
   "metadata": {},
   "outputs": [],
   "source": [
    "df = pd.DataFrame([{'user':'u1', 'date':'2024-03-11 12:05:12'},{'user':'u2', 'date':'2024-02-01 12:05:12'}])\n",
    "df['date2'] = pd.to_datetime(df['date']).dt.time"
   ]
  },
  {
   "cell_type": "code",
   "execution_count": 27,
   "metadata": {},
   "outputs": [
    {
     "data": {
      "text/plain": [
       "datetime.time(12, 5, 12)"
      ]
     },
     "execution_count": 27,
     "metadata": {},
     "output_type": "execute_result"
    }
   ],
   "source": []
  },
  {
   "cell_type": "code",
   "execution_count": 17,
   "metadata": {},
   "outputs": [
    {
     "ename": "TypeError",
     "evalue": "unsupported operand type(s) for +: 'datetime.time' and 'datetime.time'",
     "output_type": "error",
     "traceback": [
      "\u001b[1;31m---------------------------------------------------------------------------\u001b[0m",
      "\u001b[1;31mTypeError\u001b[0m                                 Traceback (most recent call last)",
      "\u001b[1;32md:\\Projects\\mlflow\\MQ_SQL\\API_Pipeline\\demo.ipynb Cell 4\u001b[0m line \u001b[0;36m1\n\u001b[1;32m----> <a href='vscode-notebook-cell:/d%3A/Projects/mlflow/MQ_SQL/API_Pipeline/demo.ipynb#X20sZmlsZQ%3D%3D?line=0'>1</a>\u001b[0m df[\u001b[39m'\u001b[39;49m\u001b[39mdate2\u001b[39;49m\u001b[39m'\u001b[39;49m][\u001b[39m0\u001b[39;49m] \u001b[39m+\u001b[39;49m df[\u001b[39m'\u001b[39;49m\u001b[39mdate2\u001b[39;49m\u001b[39m'\u001b[39;49m][\u001b[39m1\u001b[39;49m] \n",
      "\u001b[1;31mTypeError\u001b[0m: unsupported operand type(s) for +: 'datetime.time' and 'datetime.time'"
     ]
    }
   ],
   "source": []
  },
  {
   "cell_type": "code",
   "execution_count": 9,
   "metadata": {},
   "outputs": [
    {
     "data": {
      "text/plain": [
       "datetime.time"
      ]
     },
     "execution_count": 9,
     "metadata": {},
     "output_type": "execute_result"
    }
   ],
   "source": [
    "type(pd.to_datetime(df['date']).dt.time[0])"
   ]
  },
  {
   "cell_type": "code",
   "execution_count": 12,
   "metadata": {},
   "outputs": [],
   "source": [
    "from rabbit_task.clients import redisClient, PikaClient\n",
    "import json\n",
    "import re"
   ]
  },
  {
   "cell_type": "code",
   "execution_count": 15,
   "metadata": {},
   "outputs": [
    {
     "ename": "TypeError",
     "evalue": "expected string or bytes-like object",
     "output_type": "error",
     "traceback": [
      "\u001b[1;31m---------------------------------------------------------------------------\u001b[0m",
      "\u001b[1;31mTypeError\u001b[0m                                 Traceback (most recent call last)",
      "\u001b[1;32md:\\Projects\\mlflow\\MQ_SQL\\API_Pipeline\\demo.ipynb Cell 2\u001b[0m line \u001b[0;36m3\n\u001b[0;32m      <a href='vscode-notebook-cell:/d%3A/Projects/mlflow/MQ_SQL/API_Pipeline/demo.ipynb#W1sZmlsZQ%3D%3D?line=0'>1</a>\u001b[0m a \u001b[39m=\u001b[39m \u001b[39m'\u001b[39m\u001b[39m123\u001b[39m\u001b[39m'\u001b[39m\n\u001b[0;32m      <a href='vscode-notebook-cell:/d%3A/Projects/mlflow/MQ_SQL/API_Pipeline/demo.ipynb#W1sZmlsZQ%3D%3D?line=1'>2</a>\u001b[0m b\u001b[39m=\u001b[39m\u001b[39mNone\u001b[39;00m\n\u001b[1;32m----> <a href='vscode-notebook-cell:/d%3A/Projects/mlflow/MQ_SQL/API_Pipeline/demo.ipynb#W1sZmlsZQ%3D%3D?line=2'>3</a>\u001b[0m re\u001b[39m.\u001b[39mmatch(\u001b[39m'\u001b[39m\u001b[39m\\\u001b[39m\u001b[39md+\u001b[39m\u001b[39m'\u001b[39m, a), re\u001b[39m.\u001b[39;49mmatch(\u001b[39m'\u001b[39;49m\u001b[39m\\\u001b[39;49m\u001b[39md+\u001b[39;49m\u001b[39m'\u001b[39;49m, b)\n",
      "File \u001b[1;32m~\\.pyenv\\pyenv-win\\versions\\3.10.10\\lib\\re.py:190\u001b[0m, in \u001b[0;36mmatch\u001b[1;34m(pattern, string, flags)\u001b[0m\n\u001b[0;32m    187\u001b[0m \u001b[39mdef\u001b[39;00m \u001b[39mmatch\u001b[39m(pattern, string, flags\u001b[39m=\u001b[39m\u001b[39m0\u001b[39m):\n\u001b[0;32m    188\u001b[0m \u001b[39m    \u001b[39m\u001b[39m\"\"\"Try to apply the pattern at the start of the string, returning\u001b[39;00m\n\u001b[0;32m    189\u001b[0m \u001b[39m    a Match object, or None if no match was found.\"\"\"\u001b[39;00m\n\u001b[1;32m--> 190\u001b[0m     \u001b[39mreturn\u001b[39;00m _compile(pattern, flags)\u001b[39m.\u001b[39;49mmatch(string)\n",
      "\u001b[1;31mTypeError\u001b[0m: expected string or bytes-like object"
     ]
    }
   ],
   "source": [
    "a = '123'\n",
    "b=None\n",
    "re.match('\\d+', a), re.match('\\d+', b)"
   ]
  },
  {
   "cell_type": "code",
   "execution_count": 8,
   "metadata": {},
   "outputs": [
    {
     "data": {
      "text/plain": [
       "True"
      ]
     },
     "execution_count": 8,
     "metadata": {},
     "output_type": "execute_result"
    }
   ],
   "source": [
    "rabbit = PikaClient()\n",
    "rabbit.conn_check"
   ]
  },
  {
   "cell_type": "code",
   "execution_count": 11,
   "metadata": {},
   "outputs": [
    {
     "ename": "ConnectionWrongStateError",
     "evalue": "BlockingConnection.close(200, 'Normal shutdown') called on closed connection.",
     "output_type": "error",
     "traceback": [
      "\u001b[1;31m---------------------------------------------------------------------------\u001b[0m",
      "\u001b[1;31mConnectionWrongStateError\u001b[0m                 Traceback (most recent call last)",
      "\u001b[1;32md:\\Projects\\mlflow\\MQ_SQL\\API_Pipeline\\demo.ipynb Cell 4\u001b[0m line \u001b[0;36m1\n\u001b[1;32m----> <a href='vscode-notebook-cell:/d%3A/Projects/mlflow/MQ_SQL/API_Pipeline/demo.ipynb#X13sZmlsZQ%3D%3D?line=0'>1</a>\u001b[0m rabbit\u001b[39m.\u001b[39;49mconnection\u001b[39m.\u001b[39;49mclose()\n",
      "File \u001b[1;32md:\\Projects\\mlflow\\MQ_SQL\\API_Pipeline\\.venv\\lib\\site-packages\\pika\\adapters\\blocking_connection.py:800\u001b[0m, in \u001b[0;36mBlockingConnection.close\u001b[1;34m(self, reply_code, reply_text)\u001b[0m\n\u001b[0;32m    797\u001b[0m     msg \u001b[39m=\u001b[39m \u001b[39m'\u001b[39m\u001b[39m{}\u001b[39;00m\u001b[39m.close(\u001b[39m\u001b[39m{}\u001b[39;00m\u001b[39m, \u001b[39m\u001b[39m{!r}\u001b[39;00m\u001b[39m) called on closed connection.\u001b[39m\u001b[39m'\u001b[39m\u001b[39m.\u001b[39mformat(\n\u001b[0;32m    798\u001b[0m         \u001b[39mself\u001b[39m\u001b[39m.\u001b[39m\u001b[39m__class__\u001b[39m\u001b[39m.\u001b[39m\u001b[39m__name__\u001b[39m, reply_code, reply_text)\n\u001b[0;32m    799\u001b[0m     LOGGER\u001b[39m.\u001b[39merror(msg)\n\u001b[1;32m--> 800\u001b[0m     \u001b[39mraise\u001b[39;00m exceptions\u001b[39m.\u001b[39mConnectionWrongStateError(msg)\n\u001b[0;32m    802\u001b[0m LOGGER\u001b[39m.\u001b[39minfo(\u001b[39m'\u001b[39m\u001b[39mClosing connection (\u001b[39m\u001b[39m%s\u001b[39;00m\u001b[39m): \u001b[39m\u001b[39m%s\u001b[39;00m\u001b[39m'\u001b[39m, reply_code, reply_text)\n\u001b[0;32m    804\u001b[0m \u001b[39m# Close channels that remain opened\u001b[39;00m\n",
      "\u001b[1;31mConnectionWrongStateError\u001b[0m: BlockingConnection.close(200, 'Normal shutdown') called on closed connection."
     ]
    }
   ],
   "source": [
    "rabbit.connection.close()"
   ]
  },
  {
   "cell_type": "code",
   "execution_count": 4,
   "metadata": {},
   "outputs": [
    {
     "data": {
      "text/plain": [
       "'item1,item2'"
      ]
     },
     "execution_count": 4,
     "metadata": {},
     "output_type": "execute_result"
    }
   ],
   "source": [
    "r = redisClient()\n",
    "r.get('user1')"
   ]
  },
  {
   "cell_type": "code",
   "execution_count": null,
   "metadata": {},
   "outputs": [],
   "source": [
    "result = add.delay(1,2)"
   ]
  },
  {
   "cell_type": "code",
   "execution_count": 15,
   "metadata": {},
   "outputs": [
    {
     "name": "stdout",
     "output_type": "stream",
     "text": [
      "[x] send message ('demo', '\"userid\":\"user1\", \"itemid\": 1')\n"
     ]
    }
   ],
   "source": [
    "from rabbit_task.clients import BasicPikaClient\n",
    "i=1\n",
    "BasicPikaClient().MessageSender(queue_name='demo', exchange='', routing_key='demo', body=f'\"userid\":\"user1\", \"itemid\": {i}')\n",
    "BasicPikaClient().close()"
   ]
  },
  {
   "cell_type": "code",
   "execution_count": 27,
   "metadata": {},
   "outputs": [],
   "source": [
    "basic_message_sender.close()"
   ]
  },
  {
   "cell_type": "code",
   "execution_count": null,
   "metadata": {},
   "outputs": [],
   "source": [
    "from rabbit_task.clients import BasicPikaClient\n",
    "conn  = BasicPikaClient().channel\n",
    "queue_name = 'hello world queue'\n",
    "queue = conn.queue_declare('hello world queue', durable=True)\n",
    "all_messages = []\n",
    "n = queue.method.message_count - 1\n",
    "while n > 0:\n",
    "    for method_frame, properties, body in conn.consume(queue_name):\n",
    "        all_messages.append(body)\n",
    "        n = n-1"
   ]
  },
  {
   "cell_type": "code",
   "execution_count": 35,
   "metadata": {},
   "outputs": [],
   "source": [
    "conn.close()"
   ]
  },
  {
   "cell_type": "code",
   "execution_count": 36,
   "metadata": {},
   "outputs": [
    {
     "data": {
      "text/plain": [
       "[b'Hello World!0',\n",
       " b'Hello World!1',\n",
       " b'Hello World!2',\n",
       " b'Hello World!3',\n",
       " b'Hello World!4',\n",
       " b'Hello World!5',\n",
       " b'Hello World!6',\n",
       " b'Hello World!7',\n",
       " b'Hello World!8',\n",
       " b'Hello World!9']"
      ]
     },
     "execution_count": 36,
     "metadata": {},
     "output_type": "execute_result"
    }
   ],
   "source": [
    "all_messages"
   ]
  }
 ],
 "metadata": {
  "kernelspec": {
   "display_name": ".venv",
   "language": "python",
   "name": "python3"
  },
  "language_info": {
   "codemirror_mode": {
    "name": "ipython",
    "version": 3
   },
   "file_extension": ".py",
   "mimetype": "text/x-python",
   "name": "python",
   "nbconvert_exporter": "python",
   "pygments_lexer": "ipython3",
   "version": "3.10.10"
  }
 },
 "nbformat": 4,
 "nbformat_minor": 2
}
